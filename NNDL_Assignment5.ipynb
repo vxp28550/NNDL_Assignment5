{
  "nbformat": 4,
  "nbformat_minor": 0,
  "metadata": {
    "colab": {
      "provenance": []
    },
    "kernelspec": {
      "name": "python3",
      "display_name": "Python 3"
    },
    "language_info": {
      "name": "python"
    }
  },
  "cells": [
    {
      "cell_type": "code",
      "execution_count": 6,
      "metadata": {
        "colab": {
          "base_uri": "https://localhost:8080/"
        },
        "id": "8h6zIVWRMBmd",
        "outputId": "dcdb2f2b-df4a-4330-9353-ed2a35d1eb9a"
      },
      "outputs": [
        {
          "output_type": "stream",
          "name": "stdout",
          "text": [
            "(214, 10)\n",
            "Naïve Bayes\n",
            "Total number of points: 43\n",
            "Mislabeled points : 27\n",
            "Accuracy 37.21%\n"
          ]
        }
      ],
      "source": [
        "import pandas as pd\n",
        "from sklearn.svm import SVC\n",
        "from sklearn.naive_bayes import GaussianNB\n",
        "from sklearn.model_selection import train_test_split\n",
        "import time\n",
        "import warnings\n",
        "warnings.filterwarnings(\"ignore\")\n",
        "from sklearn import metrics\n",
        "data = pd.read_csv('./sample_data/glass.csv')\n",
        "print(data.shape)\n",
        "X_train, X_test = train_test_split(data, test_size=0.2,random_state=0)\n",
        "\n",
        "# features columns\n",
        "features = [\n",
        "    \"RI\", \"Na\", \"Mg\", \"Al\", \"Si\", \"K\", \"Ca\", \"Ba\", \"Fe\"\n",
        "]\n",
        "# Naïve Bayes Classifier\n",
        "gauss = GaussianNB()\n",
        "# training  the classifier\n",
        "gauss.fit(X_train[features].values,X_train[\"Type\"])\n",
        "# make predictions\n",
        "y_pred = gauss.predict(X_test[features])\n",
        "print(\"Naïve Bayes\\nTotal number of points: {}\\nMislabeled points : {}\\nAccuracy {:05.2f}%\"\n",
        "      .format(\n",
        "          X_test.shape[0],\n",
        "          (X_test[\"Type\"] != y_pred).sum(),\n",
        "          100 * (1 - (X_test[\"Type\"] != y_pred).sum() / X_test.shape[0])\n",
        "      ))\n"
      ]
    },
    {
      "cell_type": "code",
      "source": [
        "# Linear Support Vector Classification\n",
        "svc_linear = SVC(kernel='linear')\n",
        "# train linear SVM model\n",
        "svc_linear.fit(X_train[features].values,X_train[\"Type\"])\n",
        "Y_pred = svc_linear.predict(X_test[features])\n",
        "\n",
        "# Linear SVM Model performance\n",
        "acc_svc = round(svc_linear.score(\n",
        "    X_test[features].values, X_test[\"Type\"]) * 100, 2)\n",
        "print(\"Linear SVM accuracy is:\", acc_svc)\n",
        "# Support vector classifier (SVC) with the radial basis function kernel (RBF)\n",
        "svc_rbf = SVC(kernel='rbf')\n",
        "svc_rbf.fit(X_train[features].values,X_train[\"Type\"])\n",
        "\n",
        "# model predictions\n",
        "\n",
        "Y_pred = svc_rbf.predict(X_test[features])\n",
        "\n",
        "# SVM RBF Model performance\n",
        "acc_svc = round(svc_rbf.score(X_test[features].values, X_test[\"Type\"]) * 100, 2)\n",
        "print(\"SVM RBF model accuracy is:\", acc_svc)\n",
        "# print(\"\\n\")\n",
        "# print(metrics.classification_report(X_test[\"Type\"], Y_pred))"
      ],
      "metadata": {
        "colab": {
          "base_uri": "https://localhost:8080/"
        },
        "id": "Nyzl1CGXOoRD",
        "outputId": "05bb94fb-d766-4c7e-d8e6-2aa0fd3e36c5"
      },
      "execution_count": 5,
      "outputs": [
        {
          "output_type": "stream",
          "name": "stdout",
          "text": [
            "Linear SVM accuracy is: 51.16\n",
            "SVM RBF model accuracy is: 20.93\n"
          ]
        }
      ]
    }
  ]
}